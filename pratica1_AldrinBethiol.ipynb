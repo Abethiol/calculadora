{
  "nbformat": 4,
  "nbformat_minor": 0,
  "metadata": {
    "colab": {
      "provenance": []
    },
    "kernelspec": {
      "name": "python3",
      "display_name": "Python 3"
    },
    "language_info": {
      "name": "python"
    }
  },
  "cells": [
    {
      "cell_type": "code",
      "execution_count": null,
      "metadata": {
        "id": "f_rqtElmuQ9M",
        "colab": {
          "base_uri": "https://localhost:8080/"
        },
        "outputId": "6bad801d-c8eb-4aa8-9ccd-f92baf581215"
      },
      "outputs": [
        {
          "output_type": "stream",
          "name": "stdout",
          "text": [
            "Por favor, digite um número: 8\n",
            "Por favor, digite outro número: 9\n",
            "Escolha a operação desejada: somar, subtrair, multiplicar ou dividir\n",
            "Digite a operação desejada: dividir\n",
            "O resultado da divisão de 8.0 e 9.0 é 0.8888888888888888\n",
            "Deseja realizar outra operação: \n"
          ]
        }
      ],
      "source": [
        "while True:\n",
        "    # Solicitar os dois números\n",
        "    try:\n",
        "        num1 = float(input('Por favor, digite um número: '))\n",
        "        num2 = float(input('Por favor, digite outro número: '))\n",
        "    except ValueError:\n",
        "        print(\"Entrada inválida. Por favor, digite números.\")\n",
        "        continue\n",
        "\n",
        "    # Solicitar a operação a ser feita\n",
        "    print('Escolha a operação desejada: somar, subtrair, multiplicar ou dividir')\n",
        "    conta = input('Digite a operação desejada: ')\n",
        "\n",
        "    # Realizar operação e fornecer o resultado\n",
        "    if conta == 'somar':\n",
        "        print(f'O resultado da soma de {num1} e {num2} é {num1+num2}')\n",
        "    elif conta == 'subtrair':\n",
        "        print(f'O resultado da subtração de {num1} e {num2} é {num1-num2}')\n",
        "    elif conta == 'multiplicar':\n",
        "        print (f'O resultado da multiplicação de {num1} e {num2} é {num1*num2}')\n",
        "    elif conta == 'dividir':\n",
        "        if num2 == 0:\n",
        "            print('Não é possível dividir por zero')\n",
        "        else:\n",
        "            print(f'O resultado da divisão de {num1} e {num2} é {num1/num2}')\n",
        "\n",
        "    # Perguntar se deseja continuar\n",
        "    print('Deseja realizar outra operação: ')\n",
        "    continuar = input('Digite S para continuar ou N para sair: ')\n",
        "\n",
        "    if continuar.upper() == 'N':\n",
        "        print('Obrigado por usar a calculadora!')\n",
        "        break"
      ]
    }
  ]
}